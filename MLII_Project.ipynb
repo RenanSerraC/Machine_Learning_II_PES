{
  "cells": [
    {
      "cell_type": "markdown",
      "metadata": {
        "id": "1qJhq-fAYKCz"
      },
      "source": [
        "# Projeto Renan - Machine Learning II\n",
        "***"
      ]
    },
    {
      "cell_type": "markdown",
      "metadata": {
        "id": "v8-jrm6yYKC8"
      },
      "source": [
        "## Importando bibliotecas"
      ]
    },
    {
      "cell_type": "code",
      "execution_count": 5,
      "metadata": {
        "id": "b4QbxVQzYKC9"
      },
      "outputs": [],
      "source": [
        "# Bibliotecas de manipualção e visualização de dados\n",
        "import numpy as np\n",
        "import pandas as pd\n",
        "import matplotlib.pyplot as plt\n",
        "import seaborn as sns\n",
        "from mlxtend.plotting import plot_decision_regions\n",
        "from scipy.io import arff\n",
        "\n",
        "# Classes para pré-processamento\n",
        "from sklearn.preprocessing import StandardScaler\n",
        "from sklearn.preprocessing import Normalizer\n",
        "from imblearn.over_sampling import SMOTE\n",
        "from sklearn.decomposition import PCA\n",
        "from sklearn.discriminant_analysis import LinearDiscriminantAnalysis\n",
        "\n",
        "# Classes do modelo de aprendizado\n",
        "from sklearn.neighbors import KNeighborsClassifier\n",
        "from sklearn.neural_network import MLPClassifier\n",
        "\n",
        "# Funções de avaliação dos modelos\n",
        "from sklearn.metrics import classification_report, mean_squared_error, r2_score\n",
        "from sklearn.model_selection import train_test_split, KFold, LeaveOneOut, StratifiedKFold, GridSearchCV\n",
        "from sklearn.metrics import (confusion_matrix,\n",
        "                             ConfusionMatrixDisplay,\n",
        "                             classification_report,\n",
        "                             RocCurveDisplay,\n",
        "                             roc_curve,\n",
        "                             auc, accuracy_score, precision_score)\n",
        "\n",
        "\n",
        "import warnings\n",
        "warnings.filterwarnings('ignore')"
      ]
    },
    {
      "cell_type": "markdown",
      "metadata": {
        "id": "5rtQKAv0YKDA"
      },
      "source": [
        "## Análise do conjunto de dados"
      ]
    },
    {
      "cell_type": "code",
      "execution_count": 6,
      "metadata": {
        "id": "JgVuTXevYKDB"
      },
      "outputs": [],
      "source": [
        "\n",
        "d = arff.loadarff(\"/content/sample_data/indian_pines.arff\")\n",
        "dataset = pd.DataFrame(d[0])\n"
      ]
    },
    {
      "cell_type": "code",
      "execution_count": 7,
      "metadata": {
        "id": "EqQrhgmkYKDF",
        "outputId": "f4833ba4-d79e-42dc-c447-5264570e2fbc",
        "colab": {
          "base_uri": "https://localhost:8080/"
        }
      },
      "outputs": [
        {
          "output_type": "stream",
          "name": "stdout",
          "text": [
            "b'Soybeans'    4050\n",
            "b'Corn'        2502\n",
            "b'Trees'       1294\n",
            "b'Grass'        523\n",
            "b'Hay'          489\n",
            "b'Wheat'        212\n",
            "b'Alfalfa'       54\n",
            "b'Oats'          20\n",
            "Name: Class, dtype: int64\n"
          ]
        }
      ],
      "source": [
        "# Distribuição das classes por Features\n",
        "target_col = 'Class'\n",
        "print(dataset[\"Class\"].value_counts())"
      ]
    },
    {
      "cell_type": "markdown",
      "metadata": {
        "id": "LJGo_NGkYKDI"
      },
      "source": [
        "##Pré-Processamento e Hiperparamentros"
      ]
    },
    {
      "cell_type": "markdown",
      "source": [
        "### Pré-Processamento dos dados"
      ],
      "metadata": {
        "id": "y9lyZk6zGgFe"
      }
    },
    {
      "cell_type": "code",
      "source": [
        "#Arrays do Banco de dados\n",
        "X = dataset.loc[:,\"0\":\"219\"]\n",
        "y = dataset.loc[:,[\"Class\"]]\n",
        "\n",
        "#Criando Dataset NORMALIZADO Z\n",
        "s_dataset = dataset.copy(deep= True)\n",
        "stdScaler = StandardScaler()\n",
        "stdScaler.fit(X)\n",
        "s_dataset.loc[:,\"0\":\"219\"] = stdScaler.fit_transform(X,y=True)\n",
        "\n",
        "#Analisando médias e desvio padrão do dataset não normalizado e normalizado\n",
        "print (s_dataset.mean().max() - s_dataset.mean().min())\n",
        "print (s_dataset.std().max() - s_dataset.std().min())"
      ],
      "metadata": {
        "colab": {
          "base_uri": "https://localhost:8080/"
        },
        "id": "luMsUiCPGjxH",
        "outputId": "67a82699-b444-48e2-f6dd-216e80c63b40"
      },
      "execution_count": 8,
      "outputs": [
        {
          "output_type": "stream",
          "name": "stdout",
          "text": [
            "2.3125275389567564e-14\n",
            "4.440892098500626e-16\n"
          ]
        }
      ]
    },
    {
      "cell_type": "markdown",
      "source": [
        "###Setup Inicial"
      ],
      "metadata": {
        "id": "b7LKWwAZwkSf"
      }
    },
    {
      "cell_type": "code",
      "source": [
        "#Refatorando varíaveis de saída do dataset padrão\n",
        "dataset['Class'], classArray = pd.factorize(dataset['Class'])\n",
        "print(classArray)\n",
        "\n",
        "#Refatorando varíaveis de saída do dataset normalizado\n",
        "s_dataset['Class'] = pd.factorize(s_dataset['Class'])[0]\n",
        "\n",
        "#Verificando features\n",
        "s_X = s_dataset.loc[:,\"0\":\"219\"]\n",
        "s_y = s_dataset.loc[:,[\"Class\"]]\n",
        "print(s_dataset[\"Class\"].value_counts())\n",
        "\n",
        "#Gerando objeto kfold\n",
        "kFoldObj = KFold(n_splits=5,shuffle=True,random_state=199)"
      ],
      "metadata": {
        "id": "fB6MP2J03mTU",
        "outputId": "a691a005-dfee-4792-f8b2-11aaac05bae0",
        "colab": {
          "base_uri": "https://localhost:8080/"
        }
      },
      "execution_count": 9,
      "outputs": [
        {
          "output_type": "stream",
          "name": "stdout",
          "text": [
            "Index([b'Alfalfa', b'Corn', b'Grass', b'Hay', b'Oats', b'Soybeans', b'Wheat',\n",
            "       b'Trees'],\n",
            "      dtype='object')\n",
            "5    4050\n",
            "1    2502\n",
            "7    1294\n",
            "2     523\n",
            "3     489\n",
            "6     212\n",
            "0      54\n",
            "4      20\n",
            "Name: Class, dtype: int64\n"
          ]
        }
      ]
    },
    {
      "cell_type": "markdown",
      "source": [
        "### Oversampling\n"
      ],
      "metadata": {
        "id": "MUVocmuM2wgk"
      }
    },
    {
      "cell_type": "code",
      "execution_count": 10,
      "metadata": {
        "id": "L_u8nTDwYKDI",
        "colab": {
          "base_uri": "https://localhost:8080/"
        },
        "outputId": "a03aa4d8-763d-44bb-b4ef-22e3c0b4a467"
      },
      "outputs": [
        {
          "output_type": "stream",
          "name": "stdout",
          "text": [
            "Número de atributos (features):  219\n",
            "(32400, 220)\n"
          ]
        }
      ],
      "source": [
        "#Oversampling o banco de dados normalizado\n",
        "smt = SMOTE(random_state=20)\n",
        "X_smt, y_smt = smt.fit_resample(s_X,s_y)\n",
        "y_a = y_smt[y_smt.columns[0]]\n",
        "print(\"Número de atributos (features): \", X_smt.drop([X_smt.columns[0]], axis = 1).shape[1])\n",
        "print(X_smt.shape)\n",
        "#retornando Labeling para teste\n",
        "##y_smt[\"Class\"] = classArray[y_smt]\n",
        "\n"
      ]
    },
    {
      "cell_type": "markdown",
      "source": [],
      "metadata": {
        "id": "1-pXgBfiGZdO"
      }
    },
    {
      "cell_type": "markdown",
      "source": [
        "### Feature Selection (Extração de Caracteristicas)"
      ],
      "metadata": {
        "id": "H67IsVpfqmUW"
      }
    },
    {
      "cell_type": "markdown",
      "source": [
        "####PCA"
      ],
      "metadata": {
        "id": "Xy074shKquoB"
      }
    },
    {
      "cell_type": "code",
      "source": [
        "#PCA\n",
        "pca = PCA(n_components=5)\n",
        "X_pca = pca.fit_transform(X_smt)\n",
        "\n",
        "#Analisando os Vetores PCA\n",
        "plt.bar(\n",
        "    range(1,len(pca.explained_variance_)+1),\n",
        "    pca.explained_variance_\n",
        "    )\n",
        "\n",
        "plt.xlabel('PCA Feature')\n",
        "plt.ylabel('Explained variance')\n",
        "plt.show()"
      ],
      "metadata": {
        "colab": {
          "base_uri": "https://localhost:8080/",
          "height": 449
        },
        "id": "_7N71WsJqrT2",
        "outputId": "0ae6d694-7597-462f-bb06-79510e913dbe"
      },
      "execution_count": 11,
      "outputs": [
        {
          "output_type": "display_data",
          "data": {
            "text/plain": [
              "<Figure size 640x480 with 1 Axes>"
            ],
            "image/png": "[encoded data removed]"
          },
          "metadata": {}
        }
      ]
    },
    {
      "cell_type": "markdown",
      "source": [
        "####LDA"
      ],
      "metadata": {
        "id": "yjKJA_kXqyk-"
      }
    },
    {
      "cell_type": "code",
      "source": [
        "#LDA\n",
        "lda = LinearDiscriminantAnalysis()\n",
        "X_lda = lda.fit_transform(X_smt,y_smt)\n",
        "\n",
        "plt.bar(\n",
        "    range(1,len(lda.explained_variance_ratio_)+1),\n",
        "    lda.explained_variance_ratio_\n",
        "    )\n",
        "\n",
        "plt.xlabel('LDA Feature')\n",
        "plt.ylabel('Explained variance')\n",
        "plt.show()"
      ],
      "metadata": {
        "colab": {
          "base_uri": "https://localhost:8080/",
          "height": 451
        },
        "id": "CTSyzJhGq1Hf",
        "outputId": "d07fbe9a-8a18-4052-8f38-49fe63514e91"
      },
      "execution_count": 23,
      "outputs": [
        {
          "output_type": "display_data",
          "data": {
            "text/plain": [
              "<Figure size 640x480 with 1 Axes>"
            ],
            "image/png": "[encoded data removed]"
          },
          "metadata": {}
        }
      ]
    },
    {
      "cell_type": "markdown",
      "source": [
        "#### ANOVA"
      ],
      "metadata": {
        "id": "W-l6-E2vq35W"
      }
    },
    {
      "cell_type": "code",
      "source": [
        "#ANOVA"
      ],
      "metadata": {
        "id": "zswbqFvZq40X"
      },
      "execution_count": 13,
      "outputs": []
    },
    {
      "cell_type": "markdown",
      "source": [
        "###Hiperparâmetros e Funções"
      ],
      "metadata": {
        "id": "m2TiXiD3M38W"
      }
    },
    {
      "cell_type": "markdown",
      "source": [
        "####Para *KNN*\n"
      ],
      "metadata": {
        "id": "nl_3Ls53Ykml"
      }
    },
    {
      "cell_type": "code",
      "source": [
        "#Definindo distância Customizada para KNN\n",
        "def manhattan_custom_distance(x, y, weights=np.array([2, 1])):\n",
        "    return (abs(x - y)*weights).sum()\n",
        "\n",
        "#Arrays Hiperparametros\n",
        "ks = [1]\n",
        "distArray = [\"manhattan\"]"
      ],
      "metadata": {
        "id": "B2argP1yM9QO"
      },
      "execution_count": 14,
      "outputs": []
    },
    {
      "cell_type": "markdown",
      "source": [
        "####Para *MLP*"
      ],
      "metadata": {
        "id": "TZZvXi7vikud"
      }
    },
    {
      "cell_type": "code",
      "source": [
        "#Arrays Hiperparamentros\n",
        "\n",
        "n = [100]\n",
        "learningRateInit = [0.0001]\n",
        "learningRate= ['constant']"
      ],
      "metadata": {
        "id": "dkCeqfDKioOr"
      },
      "execution_count": 15,
      "outputs": []
    },
    {
      "cell_type": "markdown",
      "metadata": {
        "id": "-D4PC8k-YKDJ"
      },
      "source": [
        "## Treinamento do modelo"
      ]
    },
    {
      "cell_type": "markdown",
      "source": [
        "###Treinamento **KNN**"
      ],
      "metadata": {
        "id": "5woRqFuJxGKa"
      }
    },
    {
      "cell_type": "markdown",
      "source": [
        "####Treinamento com PCA"
      ],
      "metadata": {
        "id": "hkqbQljLMYUQ"
      }
    },
    {
      "cell_type": "code",
      "source": [
        "#KNN com PCA\n",
        "model = KNeighborsClassifier()\n",
        "parameters = {'n_neighbors': ks,\n",
        "                      'metric':distArray}\n",
        "\n",
        "grid = GridSearchCV(estimator = model,\n",
        "                    param_grid = parameters,\n",
        "                    scoring = 'precision_macro',\n",
        "                    cv = 3)\n",
        "def evaluate_model_with_kfold(kf):\n",
        "    precision_list = []\n",
        "    fold = 0\n",
        "    for train, test in kf.split(X_smt, y_smt):\n",
        "\n",
        "        y_train, y_test = y_smt.iloc[train], y_smt.iloc[test]\n",
        "\n",
        "        X_pca_train = pca.fit_transform(X_smt.iloc[train])\n",
        "        X_pca_test = pca.transform(X_smt.iloc[test])\n",
        "\n",
        "        grid.fit(X_pca_train, y_train)\n",
        "\n",
        "        y_pred = grid.predict(X_pca_test)\n",
        "\n",
        "        print(\"\\nMelhor parametro:\", grid.best_params_)\n",
        "        print(classification_report(y_test, grid.predict(X_pca_test)))\n",
        "        print(\"Fold %d: %.3f\" %(fold, precision_score(y_test, y_pred,average=\"macro\")))\n",
        "\n",
        "        precision_list.append(precision_score(y_test, y_pred,average=\"macro\"))\n",
        "        print(\"Media do modelo \", precision_list[fold].mean())\n",
        "\n",
        "        fold += 1\n",
        "\n",
        "    precision = np.array(precision_list)\n",
        "    print(\"\\nPrecisão média (desvio): %.3f +- (%.3f)\" %(precision.mean(), precision.std()))\n",
        "\n",
        "# chamada da função de Treino com KFOLD\n",
        "evaluate_model_with_kfold(kFoldObj)"
      ],
      "metadata": {
        "colab": {
          "base_uri": "https://localhost:8080/"
        },
        "id": "rvPbrLyXN5Au",
        "outputId": "65f146fe-2a6b-4441-e3ce-30c844b1e0db"
      },
      "execution_count": 28,
      "outputs": [
        {
          "output_type": "stream",
          "name": "stdout",
          "text": [
            "\n",
            "Melhor parametro: {'metric': 'manhattan', 'n_neighbors': 1}\n",
            "              precision    recall  f1-score   support\n",
            "\n",
            "           0       0.98      1.00      0.99       823\n",
            "           1       0.76      0.84      0.80       811\n",
            "           2       0.97      0.99      0.98       814\n",
            "           3       0.99      0.98      0.99       813\n",
            "           4       1.00      1.00      1.00       809\n",
            "           5       0.81      0.72      0.76       807\n",
            "           6       1.00      1.00      1.00       809\n",
            "           7       1.00      0.98      0.99       794\n",
            "\n",
            "    accuracy                           0.94      6480\n",
            "   macro avg       0.94      0.94      0.94      6480\n",
            "weighted avg       0.94      0.94      0.94      6480\n",
            "\n",
            "Fold 0: 0.939\n",
            "Media do modelo  0.9388485299879346\n",
            "\n",
            "Melhor parametro: {'metric': 'manhattan', 'n_neighbors': 1}\n",
            "              precision    recall  f1-score   support\n",
            "\n",
            "           0       0.98      1.00      0.99       826\n",
            "           1       0.75      0.83      0.79       806\n",
            "           2       0.96      0.98      0.97       826\n",
            "           3       1.00      0.99      0.99       803\n",
            "           4       1.00      1.00      1.00       805\n",
            "           5       0.82      0.72      0.76       815\n",
            "           6       0.99      1.00      1.00       783\n",
            "           7       0.99      0.97      0.98       816\n",
            "\n",
            "    accuracy                           0.94      6480\n",
            "   macro avg       0.94      0.94      0.93      6480\n",
            "weighted avg       0.94      0.94      0.93      6480\n",
            "\n",
            "Fold 1: 0.936\n",
            "Media do modelo  0.9358330944668902\n",
            "\n",
            "Melhor parametro: {'metric': 'manhattan', 'n_neighbors': 1}\n",
            "              precision    recall  f1-score   support\n",
            "\n",
            "           0       0.98      1.00      0.99       808\n",
            "           1       0.78      0.82      0.80       774\n",
            "           2       0.97      0.98      0.97       799\n",
            "           3       1.00      0.98      0.99       834\n",
            "           4       1.00      1.00      1.00       807\n",
            "           5       0.82      0.76      0.79       812\n",
            "           6       1.00      1.00      1.00       816\n",
            "           7       0.99      0.98      0.98       830\n",
            "\n",
            "    accuracy                           0.94      6480\n",
            "   macro avg       0.94      0.94      0.94      6480\n",
            "weighted avg       0.94      0.94      0.94      6480\n",
            "\n",
            "Fold 2: 0.940\n",
            "Media do modelo  0.940317283772375\n",
            "\n",
            "Melhor parametro: {'metric': 'manhattan', 'n_neighbors': 1}\n",
            "              precision    recall  f1-score   support\n",
            "\n",
            "           0       0.98      1.00      0.99       803\n",
            "           1       0.76      0.81      0.78       792\n",
            "           2       0.97      0.97      0.97       809\n",
            "           3       1.00      0.99      0.99       830\n",
            "           4       1.00      1.00      1.00       806\n",
            "           5       0.80      0.75      0.78       822\n",
            "           6       1.00      1.00      1.00       825\n",
            "           7       0.98      0.98      0.98       793\n",
            "\n",
            "    accuracy                           0.94      6480\n",
            "   macro avg       0.94      0.94      0.94      6480\n",
            "weighted avg       0.94      0.94      0.94      6480\n",
            "\n",
            "Fold 3: 0.937\n",
            "Media do modelo  0.9372833347731677\n",
            "\n",
            "Melhor parametro: {'metric': 'manhattan', 'n_neighbors': 1}\n",
            "              precision    recall  f1-score   support\n",
            "\n",
            "           0       0.98      1.00      0.99       790\n",
            "           1       0.79      0.83      0.81       867\n",
            "           2       0.96      0.99      0.98       802\n",
            "           3       1.00      0.98      0.99       770\n",
            "           4       1.00      1.00      1.00       823\n",
            "           5       0.80      0.75      0.77       794\n",
            "           6       1.00      1.00      1.00       817\n",
            "           7       1.00      0.98      0.99       817\n",
            "\n",
            "    accuracy                           0.94      6480\n",
            "   macro avg       0.94      0.94      0.94      6480\n",
            "weighted avg       0.94      0.94      0.94      6480\n",
            "\n",
            "Fold 4: 0.941\n",
            "Media do modelo  0.9408190962191025\n",
            "\n",
            "Precisão média (desvio): 0.939 +- (0.002)\n"
          ]
        }
      ]
    },
    {
      "cell_type": "markdown",
      "source": [
        "####Treinamento com LDA"
      ],
      "metadata": {
        "id": "s-4BrEov65I4"
      }
    },
    {
      "cell_type": "code",
      "source": [
        "#KNN com LDA\n",
        "model = KNeighborsClassifier()\n",
        "parameters = {'n_neighbors': ks,\n",
        "                      'metric':distArray}\n",
        "\n",
        "grid = GridSearchCV(estimator = model,\n",
        "                    param_grid = parameters,\n",
        "                    scoring = 'precision_macro',\n",
        "                    cv = 3)\n",
        "def evaluate_model_with_kfold(kf):\n",
        "    precision_list = []\n",
        "    fold = 0\n",
        "    for train, test in kf.split(X_smt, y_smt):\n",
        "\n",
        "        y_train, y_test = y_smt.iloc[train], y_smt.iloc[test]\n",
        "\n",
        "        X_lda_train = lda.fit_transform(X_smt.iloc[train],y_train)\n",
        "        X_lda_test = lda.transform(X_smt.iloc[test])\n",
        "\n",
        "        grid.fit(X_lda_train, y_train)\n",
        "\n",
        "        y_pred = grid.predict(X_lda_test)\n",
        "\n",
        "        print(\"\\nMelhor parametro:\", grid.best_params_)\n",
        "        print(classification_report(y_test, grid.predict(X_lda_test)))\n",
        "        print(\"Fold %d: %.3f\" %(fold, precision_score(y_test, y_pred,average=\"macro\")))\n",
        "\n",
        "        precision_list.append(precision_score(y_test, y_pred,average=\"macro\"))\n",
        "        print(\"Media do modelo \", precision_list[fold].mean())\n",
        "\n",
        "        fold += 1\n",
        "\n",
        "    precision = np.array(precision_list)\n",
        "    print(\"\\nPrecisão média (desvio): %.3f +- (%.3f)\" %(precision.mean(), precision.std()))\n",
        "\n",
        "# chamada da função de Treino com KFOLD\n",
        "evaluate_model_with_kfold(kFoldObj)"
      ],
      "metadata": {
        "id": "fgzZhHnU69iP",
        "outputId": "0a2b7fc8-9e1c-4e7c-905e-7072d35ff31b",
        "colab": {
          "base_uri": "https://localhost:8080/"
        }
      },
      "execution_count": 25,
      "outputs": [
        {
          "output_type": "stream",
          "name": "stdout",
          "text": [
            "\n",
            "Melhor parametro: {'metric': 'manhattan', 'n_neighbors': 1}\n",
            "              precision    recall  f1-score   support\n",
            "\n",
            "           0       1.00      1.00      1.00       823\n",
            "           1       0.80      0.87      0.83       811\n",
            "           2       0.99      1.00      1.00       814\n",
            "           3       1.00      1.00      1.00       813\n",
            "           4       1.00      1.00      1.00       809\n",
            "           5       0.85      0.77      0.81       807\n",
            "           6       1.00      1.00      1.00       809\n",
            "           7       1.00      1.00      1.00       794\n",
            "\n",
            "    accuracy                           0.95      6480\n",
            "   macro avg       0.96      0.95      0.95      6480\n",
            "weighted avg       0.96      0.95      0.95      6480\n",
            "\n",
            "Fold 0: 0.955\n",
            "Media do modelo  0.9552970929295341\n",
            "\n",
            "Melhor parametro: {'metric': 'manhattan', 'n_neighbors': 1}\n",
            "              precision    recall  f1-score   support\n",
            "\n",
            "           0       1.00      1.00      1.00       826\n",
            "           1       0.82      0.87      0.84       806\n",
            "           2       0.99      1.00      0.99       826\n",
            "           3       1.00      1.00      1.00       803\n",
            "           4       1.00      1.00      1.00       805\n",
            "           5       0.86      0.80      0.83       815\n",
            "           6       1.00      1.00      1.00       783\n",
            "           7       1.00      1.00      1.00       816\n",
            "\n",
            "    accuracy                           0.96      6480\n",
            "   macro avg       0.96      0.96      0.96      6480\n",
            "weighted avg       0.96      0.96      0.96      6480\n",
            "\n",
            "Fold 1: 0.958\n",
            "Media do modelo  0.9577701405776065\n",
            "\n",
            "Melhor parametro: {'metric': 'manhattan', 'n_neighbors': 1}\n",
            "              precision    recall  f1-score   support\n",
            "\n",
            "           0       1.00      1.00      1.00       808\n",
            "           1       0.83      0.88      0.86       774\n",
            "           2       1.00      1.00      1.00       799\n",
            "           3       1.00      1.00      1.00       834\n",
            "           4       1.00      1.00      1.00       807\n",
            "           5       0.88      0.82      0.85       812\n",
            "           6       1.00      1.00      1.00       816\n",
            "           7       1.00      1.00      1.00       830\n",
            "\n",
            "    accuracy                           0.96      6480\n",
            "   macro avg       0.96      0.96      0.96      6480\n",
            "weighted avg       0.96      0.96      0.96      6480\n",
            "\n",
            "Fold 2: 0.962\n",
            "Media do modelo  0.9624391703142219\n",
            "\n",
            "Melhor parametro: {'metric': 'manhattan', 'n_neighbors': 1}\n",
            "              precision    recall  f1-score   support\n",
            "\n",
            "           0       1.00      1.00      1.00       803\n",
            "           1       0.80      0.86      0.83       792\n",
            "           2       0.99      1.00      0.99       809\n",
            "           3       1.00      1.00      1.00       830\n",
            "           4       1.00      1.00      1.00       806\n",
            "           5       0.86      0.79      0.82       822\n",
            "           6       1.00      1.00      1.00       825\n",
            "           7       1.00      1.00      1.00       793\n",
            "\n",
            "    accuracy                           0.96      6480\n",
            "   macro avg       0.96      0.96      0.96      6480\n",
            "weighted avg       0.96      0.96      0.96      6480\n",
            "\n",
            "Fold 3: 0.956\n",
            "Media do modelo  0.9558583241946925\n",
            "\n",
            "Melhor parametro: {'metric': 'manhattan', 'n_neighbors': 1}\n",
            "              precision    recall  f1-score   support\n",
            "\n",
            "           0       1.00      1.00      1.00       790\n",
            "           1       0.83      0.85      0.84       867\n",
            "           2       0.99      1.00      0.99       802\n",
            "           3       1.00      1.00      1.00       770\n",
            "           4       1.00      1.00      1.00       823\n",
            "           5       0.83      0.80      0.81       794\n",
            "           6       1.00      1.00      1.00       817\n",
            "           7       1.00      1.00      1.00       817\n",
            "\n",
            "    accuracy                           0.95      6480\n",
            "   macro avg       0.96      0.96      0.96      6480\n",
            "weighted avg       0.95      0.95      0.95      6480\n",
            "\n",
            "Fold 4: 0.956\n",
            "Media do modelo  0.9556085949391915\n",
            "\n",
            "Precisão média (desvio): 0.957 +- (0.003)\n"
          ]
        }
      ]
    },
    {
      "cell_type": "markdown",
      "source": [
        "####Treinamento com ANOVA"
      ],
      "metadata": {
        "id": "sslIGd5AI5pv"
      }
    },
    {
      "cell_type": "code",
      "source": [
        "#KNN com ANOVA\n",
        "model = KNeighborsClassifier()\n",
        "parameters = {'n_neighbors': ks,\n",
        "                      'metric':distArray}\n",
        "\n",
        "grid = GridSearchCV(estimator = model,\n",
        "                    param_grid = parameters,\n",
        "                    scoring = 'precision_macro',\n",
        "                    cv = 3)\n",
        "def evaluate_model_with_kfold(kf):\n",
        "    precision_list = []\n",
        "    fold = 0\n",
        "    for train, test in kf.split(X_smt, y_smt):\n",
        "\n",
        "        y_train, y_test = y_smt.iloc[train], y_smt.iloc[test]\n",
        "\n",
        "        X_lda_train = lda.fit_transform(X_smt.iloc[train],y_train)\n",
        "        X_lda_test = lda.transform(X_smt.iloc[test])\n",
        "\n",
        "        grid.fit(X_lda_train, y_train)\n",
        "\n",
        "        y_pred = grid.predict(X_lda_test)\n",
        "\n",
        "        print(\"\\nMelhor parametro:\", grid.best_params_)\n",
        "        print(classification_report(y_test, grid.predict(X_lda_test)))\n",
        "        print(\"Fold %d: %.3f\" %(fold, precision_score(y_test, y_pred,average=\"macro\")))\n",
        "\n",
        "        precision_list.append(precision_score(y_test, y_pred,average=\"macro\"))\n",
        "        print(\"Media do modelo \", precision_list[fold].mean())\n",
        "\n",
        "        fold += 1\n",
        "\n",
        "    precision = np.array(precision_list)\n",
        "    print(\"\\nPrecisão média (desvio): %.3f +- (%.3f)\" %(precision.mean(), precision.std()))\n",
        "\n",
        "# chamada da função de Treino com KFOLD\n",
        "evaluate_model_with_kfold(kFoldObj)"
      ],
      "metadata": {
        "id": "Y6pCsjiQI8-p"
      },
      "execution_count": null,
      "outputs": []
    },
    {
      "cell_type": "markdown",
      "source": [
        "###Treinamento **MLP**"
      ],
      "metadata": {
        "id": "iuZ9MRtoiuep"
      }
    },
    {
      "cell_type": "markdown",
      "source": [
        "####Treinamento com PCA"
      ],
      "metadata": {
        "id": "teKCTDkci6hq"
      }
    },
    {
      "cell_type": "code",
      "source": [
        "#MLP com PCA\n",
        "\n",
        "model = MLPClassifier()\n",
        "train_score = []\n",
        "val_score = []\n",
        "\n",
        "parameters = {'hidden_layer_sizes':n,\n",
        "              'learning_rate': learningRate,\n",
        "              'learning_rate_init': learningRateInit}\n",
        "\n",
        "grid = GridSearchCV(estimator = model,\n",
        "                    param_grid = parameters,\n",
        "                    scoring = 'precision_macro',\n",
        "                    cv = 2)\n",
        "\n",
        "def evaluate_model_with_kfold(kf):\n",
        "    precision_list = []\n",
        "    fold = 0\n",
        "    for train, test in kf.split(X_smt, y_smt):\n",
        "\n",
        "        X_train, X_test = X_smt.iloc[train], X_smt.iloc[test]\n",
        "        y_train, y_test = y_smt.iloc[train], y_smt.iloc[test]\n",
        "\n",
        "        grid.fit(X_train, y_train)\n",
        "\n",
        "        y_pred = grid.predict(X_test)\n",
        "\n",
        "        print(\"\\nMelhor parametro:\", grid.best_params_)\n",
        "        print(classification_report(y_test, grid.predict(X_test)))\n",
        "        print(\"Fold %d: %.3f\" %(fold, precision_score(y_test, y_pred,average=\"macro\")))\n",
        "\n",
        "        precision_list.append(precision_score(y_test, y_pred,average=\"macro\"))\n",
        "        print(\"Media do modelo \", precision_list[fold].mean())\n",
        "\n",
        "        fold += 1\n",
        "\n",
        "    precision = np.array(precision_list)\n",
        "    print(\"\\nPrecisão média (desvio): %.3f +- (%.3f)\" %(precision.mean(), precision.std()))\n",
        "\n",
        "# chamada da função de Treino com KFOLD\n",
        "evaluate_model_with_kfold(kFoldObj)\n",
        "\n"
      ],
      "metadata": {
        "colab": {
          "base_uri": "https://localhost:8080/"
        },
        "id": "fUrtuZE4i-hS",
        "outputId": "e70797cc-fee2-4d80-feed-e5e9d8f6af4d"
      },
      "execution_count": 11,
      "outputs": [
        {
          "output_type": "stream",
          "name": "stdout",
          "text": [
            "\n",
            "Melhor parametro: {'hidden_layer_sizes': 100, 'learning_rate': 'constant', 'learning_rate_init': 0.0001}\n",
            "              precision    recall  f1-score   support\n",
            "\n",
            "           0       1.00      1.00      1.00       823\n",
            "           1       0.93      0.94      0.93       811\n",
            "           2       0.99      1.00      0.99       814\n",
            "           3       1.00      1.00      1.00       813\n",
            "           4       1.00      1.00      1.00       809\n",
            "           5       0.94      0.92      0.93       807\n",
            "           6       1.00      1.00      1.00       809\n",
            "           7       1.00      0.99      1.00       794\n",
            "\n",
            "    accuracy                           0.98      6480\n",
            "   macro avg       0.98      0.98      0.98      6480\n",
            "weighted avg       0.98      0.98      0.98      6480\n",
            "\n",
            "Fold 0: 0.982\n",
            "Media do modelo  0.9817310072862537\n",
            "\n",
            "Melhor parametro: {'hidden_layer_sizes': 100, 'learning_rate': 'constant', 'learning_rate_init': 0.0001}\n",
            "              precision    recall  f1-score   support\n",
            "\n",
            "           0       1.00      1.00      1.00       826\n",
            "           1       0.95      0.94      0.94       806\n",
            "           2       0.99      1.00      0.99       826\n",
            "           3       1.00      1.00      1.00       803\n",
            "           4       1.00      1.00      1.00       805\n",
            "           5       0.95      0.94      0.94       815\n",
            "           6       1.00      1.00      1.00       783\n",
            "           7       1.00      1.00      1.00       816\n",
            "\n",
            "    accuracy                           0.98      6480\n",
            "   macro avg       0.98      0.98      0.98      6480\n",
            "weighted avg       0.98      0.98      0.98      6480\n",
            "\n",
            "Fold 1: 0.984\n",
            "Media do modelo  0.9842310676924408\n",
            "\n",
            "Melhor parametro: {'hidden_layer_sizes': 100, 'learning_rate': 'constant', 'learning_rate_init': 0.0001}\n",
            "              precision    recall  f1-score   support\n",
            "\n",
            "           0       1.00      1.00      1.00       808\n",
            "           1       0.94      0.92      0.93       774\n",
            "           2       0.99      0.99      0.99       799\n",
            "           3       1.00      1.00      1.00       834\n",
            "           4       1.00      1.00      1.00       807\n",
            "           5       0.92      0.93      0.93       812\n",
            "           6       1.00      1.00      1.00       816\n",
            "           7       1.00      1.00      1.00       830\n",
            "\n",
            "    accuracy                           0.98      6480\n",
            "   macro avg       0.98      0.98      0.98      6480\n",
            "weighted avg       0.98      0.98      0.98      6480\n",
            "\n",
            "Fold 2: 0.980\n",
            "Media do modelo  0.9799915773540242\n",
            "\n",
            "Melhor parametro: {'hidden_layer_sizes': 100, 'learning_rate': 'constant', 'learning_rate_init': 0.0001}\n",
            "              precision    recall  f1-score   support\n",
            "\n",
            "           0       1.00      1.00      1.00       803\n",
            "           1       0.94      0.92      0.93       792\n",
            "           2       0.99      1.00      1.00       809\n",
            "           3       1.00      1.00      1.00       830\n",
            "           4       1.00      1.00      1.00       806\n",
            "           5       0.92      0.93      0.93       822\n",
            "           6       1.00      1.00      1.00       825\n",
            "           7       1.00      1.00      1.00       793\n",
            "\n",
            "    accuracy                           0.98      6480\n",
            "   macro avg       0.98      0.98      0.98      6480\n",
            "weighted avg       0.98      0.98      0.98      6480\n",
            "\n",
            "Fold 3: 0.981\n",
            "Media do modelo  0.9810884662669852\n",
            "\n",
            "Melhor parametro: {'hidden_layer_sizes': 100, 'learning_rate': 'constant', 'learning_rate_init': 0.0001}\n",
            "              precision    recall  f1-score   support\n",
            "\n",
            "           0       1.00      1.00      1.00       790\n",
            "           1       0.94      0.93      0.94       867\n",
            "           2       1.00      1.00      1.00       802\n",
            "           3       1.00      1.00      1.00       770\n",
            "           4       1.00      1.00      1.00       823\n",
            "           5       0.93      0.94      0.93       794\n",
            "           6       1.00      1.00      1.00       817\n",
            "           7       1.00      1.00      1.00       817\n",
            "\n",
            "    accuracy                           0.98      6480\n",
            "   macro avg       0.98      0.98      0.98      6480\n",
            "weighted avg       0.98      0.98      0.98      6480\n",
            "\n",
            "Fold 4: 0.983\n",
            "Media do modelo  0.9830030103944096\n",
            "\n",
            "Precisão média (desvio): 0.982 +- (0.001)\n"
          ]
        }
      ]
    },
    {
      "cell_type": "markdown",
      "source": [
        "####Trainamento com LDA"
      ],
      "metadata": {
        "id": "B-2jfatSIugZ"
      }
    },
    {
      "cell_type": "code",
      "source": [
        "#MLP com LDA"
      ],
      "metadata": {
        "id": "AsOM1_oTIwwR"
      },
      "execution_count": null,
      "outputs": []
    },
    {
      "cell_type": "markdown",
      "source": [
        "##Aplicando modelos para todo dataset"
      ],
      "metadata": {
        "id": "mZe7H_XM2nCP"
      }
    },
    {
      "cell_type": "code",
      "source": [
        "#Aplicando modelo Fold 9, como exeplo, para todo dataset\n",
        "print(classification_report(y, grid.predict(X)))\n"
      ],
      "metadata": {
        "colab": {
          "base_uri": "https://localhost:8080/"
        },
        "id": "XndZClIg23Nt",
        "outputId": "ae02b414-5ea0-49b8-be4a-287b092a3d9f"
      },
      "execution_count": null,
      "outputs": [
        {
          "output_type": "stream",
          "name": "stdout",
          "text": [
            "              precision    recall  f1-score   support\n",
            "\n",
            "           0       0.30      0.46      0.36        54\n",
            "           1       0.64      0.14      0.23      2502\n",
            "           2       0.64      0.65      0.65       523\n",
            "           3       0.89      0.86      0.87       489\n",
            "           4       0.17      0.05      0.08        20\n",
            "           5       0.64      0.95      0.76      4050\n",
            "           6       0.94      0.80      0.87       212\n",
            "           7       0.95      0.95      0.95      1294\n",
            "\n",
            "    accuracy                           0.70      9144\n",
            "   macro avg       0.64      0.61      0.60      9144\n",
            "weighted avg       0.70      0.70      0.64      9144\n",
            "\n"
          ]
        }
      ]
    }
  ],
  "metadata": {
    "kernelspec": {
      "display_name": "Python 3",
      "language": "python",
      "name": "python3"
    },
    "language_info": {
      "codemirror_mode": {
        "name": "ipython",
        "version": 3
      },
      "file_extension": ".py",
      "mimetype": "text/x-python",
      "name": "python",
      "nbconvert_exporter": "python",
      "pygments_lexer": "ipython3",
      "version": "3.10.6"
    },
    "colab": {
      "provenance": []
    }
  },
  "nbformat": 4,
  "nbformat_minor": 0
}