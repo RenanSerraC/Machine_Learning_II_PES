{
  "cells": [
    {
      "cell_type": "markdown",
      "metadata": {
        "id": "1qJhq-fAYKCz"
      },
      "source": [
        "# Projeto Renan - Machine Learning II\n",
        "***"
      ]
    },
    {
      "cell_type": "markdown",
      "metadata": {
        "id": "v8-jrm6yYKC8"
      },
      "source": [
        "## Importando bibliotecas"
      ]
    },
    {
      "cell_type": "code",
      "execution_count": 303,
      "metadata": {
        "id": "b4QbxVQzYKC9"
      },
      "outputs": [],
      "source": [
        "# Bibliotecas de manipualção e visualização de dados\n",
        "import numpy as np\n",
        "import pandas as pd\n",
        "import matplotlib.pyplot as plt\n",
        "import seaborn as sns\n",
        "from mlxtend.plotting import plot_decision_regions\n",
        "from scipy.io import arff\n",
        "\n",
        "# Classes para pré-processamento\n",
        "from sklearn.preprocessing import StandardScaler\n",
        "from sklearn.preprocessing import Normalizer\n",
        "from imblearn.over_sampling import SMOTE\n",
        "\n",
        "# Classes do modelo de aprendizado\n",
        "from sklearn.neighbors import KNeighborsClassifier\n",
        "from sklearn.tree import DecisionTreeClassifier, DecisionTreeRegressor, plot_tree\n",
        "from sklearn.svm import SVC\n",
        "from sklearn.neural_network import MLPClassifier\n",
        "\n",
        "# Funções de avaliação dos modelos\n",
        "from sklearn.metrics import classification_report, mean_squared_error, r2_score\n",
        "from sklearn.model_selection import train_test_split, KFold, LeaveOneOut, StratifiedKFold, GridSearchCV\n",
        "from sklearn.metrics import (confusion_matrix,\n",
        "                             ConfusionMatrixDisplay,\n",
        "                             classification_report,\n",
        "                             RocCurveDisplay,\n",
        "                             roc_curve,\n",
        "                             auc, accuracy_score, precision_score)\n",
        "\n",
        "\n",
        "import warnings\n",
        "warnings.filterwarnings('ignore')"
      ]
    },
    {
      "cell_type": "markdown",
      "metadata": {
        "id": "5rtQKAv0YKDA"
      },
      "source": [
        "## Análise do conjunto de dados"
      ]
    },
    {
      "cell_type": "code",
      "execution_count": 315,
      "metadata": {
        "id": "JgVuTXevYKDB"
      },
      "outputs": [],
      "source": [
        "\n",
        "d = arff.loadarff(\"/content/sample_data/indian_pines.arff\")\n",
        "dataset = pd.DataFrame(d[0])\n"
      ]
    },
    {
      "cell_type": "code",
      "execution_count": 316,
      "metadata": {
        "id": "EqQrhgmkYKDF",
        "outputId": "033d31b3-3207-496c-81ee-2058d943266b",
        "colab": {
          "base_uri": "https://localhost:8080/"
        }
      },
      "outputs": [
        {
          "output_type": "stream",
          "name": "stdout",
          "text": [
            "b'Soybeans'    4050\n",
            "b'Corn'        2502\n",
            "b'Trees'       1294\n",
            "b'Grass'        523\n",
            "b'Hay'          489\n",
            "b'Wheat'        212\n",
            "b'Alfalfa'       54\n",
            "b'Oats'          20\n",
            "Name: Class, dtype: int64\n"
          ]
        }
      ],
      "source": [
        "# Distribuição das classes por Features\n",
        "target_col = 'Class'\n",
        "print(dataset[\"Class\"].value_counts())"
      ]
    },
    {
      "cell_type": "markdown",
      "metadata": {
        "id": "LJGo_NGkYKDI"
      },
      "source": [
        "##Pré-Processamento e Hiperparamentros"
      ]
    },
    {
      "cell_type": "markdown",
      "source": [
        "### Pré-Processamento dos dados"
      ],
      "metadata": {
        "id": "y9lyZk6zGgFe"
      }
    },
    {
      "cell_type": "code",
      "source": [
        "#Arrays do Banco de dados\n",
        "X = dataset.loc[:,\"0\":\"219\"]\n",
        "y = dataset.loc[:,[\"Class\"]]\n",
        "\n",
        "#Criando Dataset NORMALIZADO Z\n",
        "s_dataset = dataset.copy(deep= True)\n",
        "stdScaler = StandardScaler()\n",
        "stdScaler.fit(X)\n",
        "s_dataset.loc[:,\"0\":\"219\"] = stdScaler.fit_transform(X,y=True)\n",
        "\n",
        "#Analisando médias e desvio padrão do dataset não normalizado e normalizado\n",
        "print (s_dataset.mean().max() - s_dataset.mean().min())\n",
        "print (s_dataset.std().max() - s_dataset.std().min())"
      ],
      "metadata": {
        "colab": {
          "base_uri": "https://localhost:8080/"
        },
        "id": "luMsUiCPGjxH",
        "outputId": "9cff5fdb-f146-4b8f-caec-ddc68a8f48ce"
      },
      "execution_count": 317,
      "outputs": [
        {
          "output_type": "stream",
          "name": "stdout",
          "text": [
            "2.3125275389567564e-14\n",
            "4.440892098500626e-16\n"
          ]
        }
      ]
    },
    {
      "cell_type": "markdown",
      "source": [
        "###Setup Inicial"
      ],
      "metadata": {
        "id": "b7LKWwAZwkSf"
      }
    },
    {
      "cell_type": "code",
      "source": [
        "#Refatorando varíaveis de saída do dataset padrão\n",
        "dataset['Class'], classArray = pd.factorize(dataset['Class'])\n",
        "print(classArray)\n",
        "\n",
        "#Refatorando varíaveis de saída do dataset normalizado\n",
        "s_dataset['Class'] = pd.factorize(s_dataset['Class'])[0]\n",
        "\n",
        "#Verificando features\n",
        "s_X = s_dataset.loc[:,\"0\":\"219\"]\n",
        "s_y = s_dataset.loc[:,[\"Class\"]]\n",
        "print(s_dataset[\"Class\"].value_counts())\n",
        "\n",
        "#Gerando objeto kfold\n",
        "kFoldObj = KFold(n_splits=10,shuffle=True,random_state=199)"
      ],
      "metadata": {
        "id": "fB6MP2J03mTU",
        "outputId": "a5630426-d196-466e-e3a5-b031b9f30a58",
        "colab": {
          "base_uri": "https://localhost:8080/"
        }
      },
      "execution_count": 318,
      "outputs": [
        {
          "output_type": "stream",
          "name": "stdout",
          "text": [
            "Index([b'Alfalfa', b'Corn', b'Grass', b'Hay', b'Oats', b'Soybeans', b'Wheat',\n",
            "       b'Trees'],\n",
            "      dtype='object')\n",
            "5    4050\n",
            "1    2502\n",
            "7    1294\n",
            "2     523\n",
            "3     489\n",
            "6     212\n",
            "0      54\n",
            "4      20\n",
            "Name: Class, dtype: int64\n"
          ]
        }
      ]
    },
    {
      "cell_type": "markdown",
      "source": [
        "### Oversampling\n"
      ],
      "metadata": {
        "id": "MUVocmuM2wgk"
      }
    },
    {
      "cell_type": "code",
      "execution_count": 328,
      "metadata": {
        "id": "L_u8nTDwYKDI"
      },
      "outputs": [],
      "source": [
        "#Oversampling o banco de dados normalizado\n",
        "smt = SMOTE(random_state=20)\n",
        "X_smt, y_smt = smt.fit_resample(s_X,s_y)\n",
        "\n",
        "#retornando Labeling para teste\n",
        "##y_smt[\"Class\"] = classArray[y_smt]\n",
        "\n"
      ]
    },
    {
      "cell_type": "markdown",
      "source": [],
      "metadata": {
        "id": "1-pXgBfiGZdO"
      }
    },
    {
      "cell_type": "markdown",
      "source": [
        "###Hiperparâmetros e Funções"
      ],
      "metadata": {
        "id": "m2TiXiD3M38W"
      }
    },
    {
      "cell_type": "markdown",
      "source": [
        "####Para *KNN*\n"
      ],
      "metadata": {
        "id": "nl_3Ls53Ykml"
      }
    },
    {
      "cell_type": "code",
      "source": [
        "#Definindo distância Customizada para KNN\n",
        "def manhattan_custom_distance(x, y, weights=np.array([2, 1])):\n",
        "    return (abs(x - y)*weights).sum()\n",
        "\n",
        "#Arrays Hiperparametros\n",
        "ks = [1,5,8,10,13]\n",
        "distArray = [\"euclidean\", \"manhattan\"]"
      ],
      "metadata": {
        "id": "B2argP1yM9QO"
      },
      "execution_count": null,
      "outputs": []
    },
    {
      "cell_type": "markdown",
      "source": [
        "####Para *MLP*"
      ],
      "metadata": {
        "id": "TZZvXi7vikud"
      }
    },
    {
      "cell_type": "code",
      "source": [
        "#Arrays Hiperparamentros\n",
        "\n",
        "n = [10, 20, 30, 40, 50, 60, 70, 80, 90, 100]\n",
        "n_1 = [1,3,5,15,25,35,45,55]\n",
        "learningRateInit = [0.0001,0.001,0.01,0.1]\n",
        "learningRate= ['constant','adaptive']"
      ],
      "metadata": {
        "id": "dkCeqfDKioOr"
      },
      "execution_count": null,
      "outputs": []
    },
    {
      "cell_type": "markdown",
      "metadata": {
        "id": "-D4PC8k-YKDJ"
      },
      "source": [
        "## Treinamento do modelo"
      ]
    },
    {
      "cell_type": "markdown",
      "source": [
        "###Treinamento **KNN**"
      ],
      "metadata": {
        "id": "5woRqFuJxGKa"
      }
    },
    {
      "cell_type": "markdown",
      "source": [
        "####Treinamento com *Hyper Tunning*"
      ],
      "metadata": {
        "id": "hkqbQljLMYUQ"
      }
    },
    {
      "cell_type": "code",
      "source": [
        "#KNN com Hypertunning\n",
        "model = KNeighborsClassifier()\n",
        "parameters = {'n_neighbors': ks,\n",
        "                      'metric':distArray}\n",
        "\n",
        "grid = GridSearchCV(estimator = model,\n",
        "                    param_grid = parameters,\n",
        "                    scoring = 'precision_macro',\n",
        "                    cv = 10)\n",
        "def evaluate_model_with_kfold(kf):\n",
        "    precision_list = []\n",
        "    fold = 0\n",
        "    for train, test in kf.split(X, y):\n",
        "\n",
        "        X_train, X_test = X.iloc[train], X.iloc[test]\n",
        "        y_train, y_test = y.iloc[train], y.iloc[test]\n",
        "\n",
        "        grid.fit(X_train, y_train)\n",
        "\n",
        "        y_pred = grid.predict(X_test)\n",
        "\n",
        "        print(\"\\nMelhor parametro:\", grid.best_params_)\n",
        "        print(classification_report(y_test, grid.predict(X_test)))\n",
        "        print(\"Fold %d: %.3f\" %(fold, precision_score(y_test, y_pred,average=\"macro\")))\n",
        "\n",
        "        precision_list.append(precision_score(y_test, y_pred,average=\"macro\"))\n",
        "        print(\"Media do modelo \", precision_list[fold].mean())\n",
        "\n",
        "        fold += 1\n",
        "\n",
        "    precision = np.array(precision_list)\n",
        "    print(\"\\nPrecisão média (desvio): %.3f +- (%.3f)\" %(precision.mean(), precision.std()))\n",
        "\n",
        "# chamada da função de Treino com KFOLD\n",
        "evaluate_model_with_kfold(kFoldObj)"
      ],
      "metadata": {
        "colab": {
          "base_uri": "https://localhost:8080/"
        },
        "id": "rvPbrLyXN5Au",
        "outputId": "3bea3233-fd0c-42ed-e0e7-9b3a3665fd6f"
      },
      "execution_count": null,
      "outputs": [
        {
          "output_type": "stream",
          "name": "stdout",
          "text": [
            "\n",
            "Melhor parametro: {'metric': 'manhattan', 'n_neighbors': 1}\n",
            "              precision    recall  f1-score   support\n",
            "\n",
            "           0       1.00      0.67      0.80         3\n",
            "           1       0.89      0.86      0.88       243\n",
            "           2       0.96      1.00      0.98        52\n",
            "           3       0.98      1.00      0.99        50\n",
            "           4       0.00      0.00      0.00         1\n",
            "           5       0.92      0.94      0.93       416\n",
            "           6       0.96      1.00      0.98        22\n",
            "           7       1.00      0.98      0.99       128\n",
            "\n",
            "    accuracy                           0.93       915\n",
            "   macro avg       0.84      0.81      0.82       915\n",
            "weighted avg       0.93      0.93      0.93       915\n",
            "\n",
            "Fold 0: 0.839\n",
            "Media do modelo  0.8389385394122522\n",
            "\n",
            "Melhor parametro: {'metric': 'euclidean', 'n_neighbors': 1}\n",
            "              precision    recall  f1-score   support\n",
            "\n",
            "           0       1.00      0.60      0.75         5\n",
            "           1       0.84      0.79      0.81       266\n",
            "           2       0.91      0.98      0.94        52\n",
            "           3       1.00      1.00      1.00        64\n",
            "           4       1.00      1.00      1.00         4\n",
            "           5       0.85      0.89      0.87       370\n",
            "           6       1.00      1.00      1.00        24\n",
            "           7       1.00      0.98      0.99       130\n",
            "\n",
            "    accuracy                           0.89       915\n",
            "   macro avg       0.95      0.91      0.92       915\n",
            "weighted avg       0.89      0.89      0.89       915\n",
            "\n",
            "Fold 1: 0.950\n",
            "Media do modelo  0.9502728174603174\n",
            "\n",
            "Melhor parametro: {'metric': 'manhattan', 'n_neighbors': 1}\n",
            "              precision    recall  f1-score   support\n",
            "\n",
            "           0       1.00      0.83      0.91         6\n",
            "           1       0.88      0.87      0.88       240\n",
            "           2       0.95      0.90      0.92        40\n",
            "           3       0.98      1.00      0.99        53\n",
            "           4       1.00      1.00      1.00         3\n",
            "           5       0.93      0.93      0.93       427\n",
            "           6       0.95      1.00      0.98        21\n",
            "           7       0.98      0.99      0.99       125\n",
            "\n",
            "    accuracy                           0.93       915\n",
            "   macro avg       0.96      0.94      0.95       915\n",
            "weighted avg       0.93      0.93      0.93       915\n",
            "\n",
            "Fold 2: 0.960\n",
            "Media do modelo  0.9596607322543909\n",
            "\n",
            "Melhor parametro: {'metric': 'manhattan', 'n_neighbors': 5}\n",
            "              precision    recall  f1-score   support\n",
            "\n",
            "           0       1.00      0.88      0.93         8\n",
            "           1       0.85      0.80      0.83       235\n",
            "           2       0.92      0.96      0.94        51\n",
            "           3       1.00      1.00      1.00        60\n",
            "           4       1.00      1.00      1.00         2\n",
            "           5       0.89      0.92      0.90       418\n",
            "           6       1.00      1.00      1.00        16\n",
            "           7       1.00      0.98      0.99       125\n",
            "\n",
            "    accuracy                           0.91       915\n",
            "   macro avg       0.96      0.94      0.95       915\n",
            "weighted avg       0.91      0.91      0.91       915\n",
            "\n",
            "Fold 3: 0.958\n",
            "Media do modelo  0.9578766512844845\n",
            "\n",
            "Melhor parametro: {'metric': 'manhattan', 'n_neighbors': 8}\n",
            "              precision    recall  f1-score   support\n",
            "\n",
            "           0       0.00      0.00      0.00         1\n",
            "           1       0.85      0.83      0.84       245\n",
            "           2       0.91      0.91      0.91        53\n",
            "           3       1.00      0.98      0.99        43\n",
            "           4       0.50      1.00      0.67         1\n",
            "           5       0.90      0.91      0.90       418\n",
            "           6       1.00      1.00      1.00        26\n",
            "           7       0.98      0.98      0.98       127\n",
            "\n",
            "    accuracy                           0.90       914\n",
            "   macro avg       0.77      0.83      0.79       914\n",
            "weighted avg       0.90      0.90      0.90       914\n",
            "\n",
            "Fold 4: 0.767\n",
            "Media do modelo  0.7672965333932316\n",
            "\n",
            "Melhor parametro: {'metric': 'manhattan', 'n_neighbors': 13}\n",
            "              precision    recall  f1-score   support\n",
            "\n",
            "           0       0.83      0.83      0.83         6\n",
            "           1       0.87      0.79      0.83       277\n",
            "           2       0.95      0.87      0.91        46\n",
            "           3       0.91      0.97      0.94        33\n",
            "           4       0.00      0.00      0.00         2\n",
            "           5       0.87      0.92      0.89       395\n",
            "           6       0.84      1.00      0.91        16\n",
            "           7       0.99      0.99      0.99       139\n",
            "\n",
            "    accuracy                           0.89       914\n",
            "   macro avg       0.78      0.80      0.79       914\n",
            "weighted avg       0.89      0.89      0.89       914\n",
            "\n",
            "Fold 5: 0.784\n",
            "Media do modelo  0.7843637830613833\n",
            "\n",
            "Melhor parametro: {'metric': 'manhattan', 'n_neighbors': 8}\n",
            "              precision    recall  f1-score   support\n",
            "\n",
            "           0       0.60      0.75      0.67         4\n",
            "           1       0.82      0.81      0.82       240\n",
            "           2       0.89      0.93      0.91        60\n",
            "           3       0.96      0.96      0.96        49\n",
            "           4       1.00      1.00      1.00         1\n",
            "           5       0.89      0.88      0.88       404\n",
            "           6       1.00      0.96      0.98        25\n",
            "           7       0.98      0.99      0.99       131\n",
            "\n",
            "    accuracy                           0.89       914\n",
            "   macro avg       0.89      0.91      0.90       914\n",
            "weighted avg       0.89      0.89      0.89       914\n",
            "\n",
            "Fold 6: 0.893\n",
            "Media do modelo  0.8926952420922263\n",
            "\n",
            "Melhor parametro: {'metric': 'manhattan', 'n_neighbors': 1}\n",
            "              precision    recall  f1-score   support\n",
            "\n",
            "           0       0.67      0.80      0.73         5\n",
            "           1       0.89      0.89      0.89       261\n",
            "           2       0.96      1.00      0.98        50\n",
            "           3       0.97      0.95      0.96        37\n",
            "           4       0.50      1.00      0.67         2\n",
            "           5       0.92      0.92      0.92       395\n",
            "           6       1.00      0.94      0.97        16\n",
            "           7       1.00      0.99      1.00       148\n",
            "\n",
            "    accuracy                           0.93       914\n",
            "   macro avg       0.86      0.94      0.89       914\n",
            "weighted avg       0.93      0.93      0.93       914\n",
            "\n",
            "Fold 7: 0.864\n",
            "Media do modelo  0.8638044790239447\n",
            "\n",
            "Melhor parametro: {'metric': 'euclidean', 'n_neighbors': 13}\n",
            "              precision    recall  f1-score   support\n",
            "\n",
            "           0       1.00      0.62      0.77         8\n",
            "           1       0.87      0.77      0.81       260\n",
            "           2       0.96      0.93      0.95        56\n",
            "           3       0.96      1.00      0.98        49\n",
            "           4       1.00      0.25      0.40         4\n",
            "           5       0.85      0.92      0.88       387\n",
            "           6       0.82      1.00      0.90        28\n",
            "           7       1.00      0.98      0.99       122\n",
            "\n",
            "    accuracy                           0.89       914\n",
            "   macro avg       0.93      0.81      0.84       914\n",
            "weighted avg       0.89      0.89      0.88       914\n",
            "\n",
            "Fold 8: 0.932\n",
            "Media do modelo  0.9324686812107386\n",
            "\n",
            "Melhor parametro: {'metric': 'euclidean', 'n_neighbors': 13}\n",
            "              precision    recall  f1-score   support\n",
            "\n",
            "           0       1.00      0.75      0.86         8\n",
            "           1       0.81      0.76      0.79       235\n",
            "           2       0.95      0.94      0.94        63\n",
            "           3       0.94      0.98      0.96        51\n",
            "           4       0.00      0.00      0.00         0\n",
            "           5       0.87      0.90      0.89       420\n",
            "           6       0.95      1.00      0.97        18\n",
            "           7       1.00      0.99      1.00       119\n",
            "\n",
            "    accuracy                           0.89       914\n",
            "   macro avg       0.82      0.79      0.80       914\n",
            "weighted avg       0.89      0.89      0.88       914\n",
            "\n",
            "Fold 9: 0.816\n",
            "Media do modelo  0.8159097852682484\n",
            "\n",
            "Acurácia média (desvio): 0.876 +- (0.069)\n"
          ]
        }
      ]
    },
    {
      "cell_type": "markdown",
      "source": [
        "###Treinamento **MLP**"
      ],
      "metadata": {
        "id": "iuZ9MRtoiuep"
      }
    },
    {
      "cell_type": "markdown",
      "source": [
        "####Treinamento Hyper Tunning"
      ],
      "metadata": {
        "id": "teKCTDkci6hq"
      }
    },
    {
      "cell_type": "code",
      "source": [
        "#MLP Hyper\n",
        "\n",
        "model = MLPClassifier()\n",
        "train_score = []\n",
        "val_score = []\n",
        "\n",
        "parameters = {'hidden_layer_sizes':n,\n",
        "              'learning_rate': learningRate,\n",
        "              'learning_rate_init': learningRateInit}\n",
        "\n",
        "grid = GridSearchCV(estimator = model,\n",
        "                    param_grid = parameters,\n",
        "                    scoring = 'precision_macro',\n",
        "                    cv = 2)\n",
        "\n",
        "def evaluate_model_with_kfold(kf):\n",
        "    precision_list = []\n",
        "    fold = 0\n",
        "    for train, test in kf.split(X, y):\n",
        "\n",
        "        X_train, X_test = X.iloc[train], X.iloc[test]\n",
        "        y_train, y_test = y.iloc[train], y.iloc[test]\n",
        "\n",
        "        grid.fit(X_train, y_train)\n",
        "\n",
        "        y_pred = grid.predict(X_test)\n",
        "\n",
        "        print(\"\\nMelhor parametro:\", grid.best_params_)\n",
        "        print(classification_report(y_test, grid.predict(X_test)))\n",
        "        print(\"Fold %d: %.3f\" %(fold, precision_score(y_test, y_pred,average=\"macro\")))\n",
        "\n",
        "        precision_list.append(precision_score(y_test, y_pred,average=\"macro\"))\n",
        "        print(\"Media do modelo \", precision_list[fold].mean())\n",
        "\n",
        "        fold += 1\n",
        "\n",
        "    precision = np.array(precision_list)\n",
        "    print(\"\\nPrecisão média (desvio): %.3f +- (%.3f)\" %(precision.mean(), precision.std()))\n",
        "\n",
        "# chamada da função de Treino com KFOLD\n",
        "evaluate_model_with_kfold(kFoldObj)\n",
        "\n"
      ],
      "metadata": {
        "colab": {
          "base_uri": "https://localhost:8080/"
        },
        "id": "fUrtuZE4i-hS",
        "outputId": "a48c50f2-b768-4ef5-dc59-cd160479b48a"
      },
      "execution_count": null,
      "outputs": [
        {
          "output_type": "stream",
          "name": "stdout",
          "text": [
            "\n",
            "Melhor parametro: {'hidden_layer_sizes': 90, 'learning_rate': 'adaptive', 'learning_rate_init': 0.001}\n",
            "              precision    recall  f1-score   support\n",
            "\n",
            "           0       0.00      0.00      0.00         3\n",
            "           1       0.00      0.00      0.00       243\n",
            "           2       0.44      0.13      0.21        52\n",
            "           3       0.98      0.82      0.89        50\n",
            "           4       0.07      1.00      0.12         1\n",
            "           5       0.63      0.99      0.77       416\n",
            "           6       0.95      0.82      0.88        22\n",
            "           7       0.77      1.00      0.87       128\n",
            "\n",
            "    accuracy                           0.66       915\n",
            "   macro avg       0.48      0.60      0.47       915\n",
            "weighted avg       0.49      0.66      0.55       915\n",
            "\n",
            "Fold 0: 0.478\n",
            "Media do modelo  0.4777801762832304\n",
            "\n",
            "Melhor parametro: {'hidden_layer_sizes': 50, 'learning_rate': 'constant', 'learning_rate_init': 0.0001}\n",
            "              precision    recall  f1-score   support\n",
            "\n",
            "           0       0.00      0.00      0.00         5\n",
            "           1       0.51      0.88      0.65       266\n",
            "           2       0.49      0.65      0.56        52\n",
            "           3       0.81      0.61      0.70        64\n",
            "           4       0.00      0.00      0.00         4\n",
            "           5       0.85      0.41      0.55       370\n",
            "           6       0.96      0.96      0.96        24\n",
            "           7       0.90      0.94      0.92       130\n",
            "\n",
            "    accuracy                           0.66       915\n",
            "   macro avg       0.56      0.56      0.54       915\n",
            "weighted avg       0.73      0.66      0.65       915\n",
            "\n",
            "Fold 1: 0.565\n",
            "Media do modelo  0.5645180305083703\n",
            "\n",
            "Melhor parametro: {'hidden_layer_sizes': 40, 'learning_rate': 'constant', 'learning_rate_init': 0.0001}\n",
            "              precision    recall  f1-score   support\n",
            "\n",
            "           0       0.00      0.00      0.00         6\n",
            "           1       0.53      0.65      0.59       240\n",
            "           2       1.00      0.68      0.81        40\n",
            "           3       0.80      0.98      0.88        53\n",
            "           4       0.00      0.00      0.00         3\n",
            "           5       0.76      0.68      0.72       427\n",
            "           6       0.89      0.76      0.82        21\n",
            "           7       0.95      0.98      0.96       125\n",
            "\n",
            "    accuracy                           0.73       915\n",
            "   macro avg       0.62      0.59      0.60       915\n",
            "weighted avg       0.73      0.73      0.73       915\n",
            "\n",
            "Fold 2: 0.616\n",
            "Media do modelo  0.6160564517562652\n",
            "\n",
            "Melhor parametro: {'hidden_layer_sizes': 60, 'learning_rate': 'adaptive', 'learning_rate_init': 0.001}\n",
            "              precision    recall  f1-score   support\n",
            "\n",
            "           0       0.08      0.12      0.10         8\n",
            "           1       0.34      1.00      0.51       235\n",
            "           2       0.52      0.57      0.54        51\n",
            "           3       0.97      0.55      0.70        60\n",
            "           4       0.00      0.00      0.00         2\n",
            "           5       0.83      0.01      0.02       418\n",
            "           6       0.89      1.00      0.94        16\n",
            "           7       0.96      0.82      0.88       125\n",
            "\n",
            "    accuracy                           0.46       915\n",
            "   macro avg       0.57      0.51      0.46       915\n",
            "weighted avg       0.71      0.46      0.36       915\n",
            "\n",
            "Fold 3: 0.574\n",
            "Media do modelo  0.5741204165798479\n",
            "\n",
            "Melhor parametro: {'hidden_layer_sizes': 40, 'learning_rate': 'adaptive', 'learning_rate_init': 0.0001}\n",
            "              precision    recall  f1-score   support\n",
            "\n",
            "           0       0.00      0.00      0.00         1\n",
            "           1       0.58      0.27      0.36       245\n",
            "           2       0.61      0.72      0.66        53\n",
            "           3       0.94      0.74      0.83        43\n",
            "           4       0.00      0.00      0.00         1\n",
            "           5       0.66      0.89      0.76       418\n",
            "           6       0.88      0.81      0.84        26\n",
            "           7       0.94      0.87      0.90       127\n",
            "\n",
            "    accuracy                           0.70       914\n",
            "   macro avg       0.58      0.54      0.54       914\n",
            "weighted avg       0.69      0.70      0.67       914\n",
            "\n",
            "Fold 4: 0.576\n",
            "Media do modelo  0.5759442890974582\n",
            "\n",
            "Melhor parametro: {'hidden_layer_sizes': 100, 'learning_rate': 'constant', 'learning_rate_init': 0.0001}\n",
            "              precision    recall  f1-score   support\n",
            "\n",
            "           0       1.00      0.17      0.29         6\n",
            "           1       0.53      0.95      0.68       277\n",
            "           2       0.71      0.54      0.62        46\n",
            "           3       0.76      0.97      0.85        33\n",
            "           4       0.00      0.00      0.00         2\n",
            "           5       0.91      0.41      0.57       395\n",
            "           6       0.82      0.88      0.85        16\n",
            "           7       0.94      0.94      0.94       139\n",
            "\n",
            "    accuracy                           0.69       914\n",
            "   macro avg       0.71      0.61      0.60       914\n",
            "weighted avg       0.78      0.69      0.67       914\n",
            "\n",
            "Fold 5: 0.709\n",
            "Media do modelo  0.7090037692314157\n",
            "\n",
            "Melhor parametro: {'hidden_layer_sizes': 70, 'learning_rate': 'constant', 'learning_rate_init': 0.0001}\n",
            "              precision    recall  f1-score   support\n",
            "\n",
            "           0       0.00      0.00      0.00         4\n",
            "           1       0.41      0.91      0.57       240\n",
            "           2       0.50      0.45      0.47        60\n",
            "           3       0.89      0.82      0.85        49\n",
            "           4       0.00      0.00      0.00         1\n",
            "           5       0.84      0.24      0.37       404\n",
            "           6       0.90      0.72      0.80        25\n",
            "           7       0.84      0.92      0.88       131\n",
            "\n",
            "    accuracy                           0.57       914\n",
            "   macro avg       0.55      0.51      0.49       914\n",
            "weighted avg       0.70      0.57      0.54       914\n",
            "\n",
            "Fold 6: 0.547\n",
            "Media do modelo  0.5474549367221502\n",
            "\n",
            "Melhor parametro: {'hidden_layer_sizes': 40, 'learning_rate': 'adaptive', 'learning_rate_init': 0.0001}\n",
            "              precision    recall  f1-score   support\n",
            "\n",
            "           0       0.80      0.80      0.80         5\n",
            "           1       0.60      0.74      0.66       261\n",
            "           2       0.36      0.70      0.47        50\n",
            "           3       0.89      0.84      0.86        37\n",
            "           4       0.00      0.00      0.00         2\n",
            "           5       0.78      0.66      0.72       395\n",
            "           6       0.74      0.88      0.80        16\n",
            "           7       0.99      0.64      0.77       148\n",
            "\n",
            "    accuracy                           0.69       914\n",
            "   macro avg       0.64      0.66      0.64       914\n",
            "weighted avg       0.74      0.69      0.70       914\n",
            "\n",
            "Fold 7: 0.644\n",
            "Media do modelo  0.643506092581811\n",
            "\n",
            "Melhor parametro: {'hidden_layer_sizes': 100, 'learning_rate': 'adaptive', 'learning_rate_init': 0.0001}\n",
            "              precision    recall  f1-score   support\n",
            "\n",
            "           0       0.00      0.00      0.00         8\n",
            "           1       0.58      0.68      0.63       260\n",
            "           2       0.58      0.86      0.69        56\n",
            "           3       0.95      0.80      0.87        49\n",
            "           4       0.50      0.25      0.33         4\n",
            "           5       0.76      0.66      0.71       387\n",
            "           6       0.82      0.64      0.72        28\n",
            "           7       0.97      0.95      0.96       122\n",
            "\n",
            "    accuracy                           0.72       914\n",
            "   macro avg       0.64      0.61      0.61       914\n",
            "weighted avg       0.73      0.72      0.72       914\n",
            "\n",
            "Fold 8: 0.644\n",
            "Media do modelo  0.6442740863570204\n",
            "\n",
            "Melhor parametro: {'hidden_layer_sizes': 80, 'learning_rate': 'adaptive', 'learning_rate_init': 0.0001}\n",
            "              precision    recall  f1-score   support\n",
            "\n",
            "           0       0.30      0.38      0.33         8\n",
            "           1       0.67      0.16      0.26       235\n",
            "           2       0.72      0.65      0.68        63\n",
            "           3       0.86      0.84      0.85        51\n",
            "           4       0.00      0.00      0.00         0\n",
            "           5       0.67      0.95      0.78       420\n",
            "           6       1.00      0.89      0.94        18\n",
            "           7       0.93      0.96      0.94       119\n",
            "\n",
            "    accuracy                           0.72       914\n",
            "   macro avg       0.64      0.60      0.60       914\n",
            "weighted avg       0.72      0.72      0.67       914\n",
            "\n",
            "Fold 9: 0.642\n",
            "Media do modelo  0.642224272571673\n",
            "\n",
            "Precisão média (desvio): 0.599 +- (0.062)\n"
          ]
        }
      ]
    },
    {
      "cell_type": "markdown",
      "source": [
        "##Aplicando modelos para todo dataset"
      ],
      "metadata": {
        "id": "mZe7H_XM2nCP"
      }
    },
    {
      "cell_type": "code",
      "source": [
        "#Aplicando modelo Fold 9, como exeplo, para todo dataset\n",
        "print(classification_report(y, grid.predict(X)))\n"
      ],
      "metadata": {
        "colab": {
          "base_uri": "https://localhost:8080/"
        },
        "id": "XndZClIg23Nt",
        "outputId": "ae02b414-5ea0-49b8-be4a-287b092a3d9f"
      },
      "execution_count": null,
      "outputs": [
        {
          "output_type": "stream",
          "name": "stdout",
          "text": [
            "              precision    recall  f1-score   support\n",
            "\n",
            "           0       0.30      0.46      0.36        54\n",
            "           1       0.64      0.14      0.23      2502\n",
            "           2       0.64      0.65      0.65       523\n",
            "           3       0.89      0.86      0.87       489\n",
            "           4       0.17      0.05      0.08        20\n",
            "           5       0.64      0.95      0.76      4050\n",
            "           6       0.94      0.80      0.87       212\n",
            "           7       0.95      0.95      0.95      1294\n",
            "\n",
            "    accuracy                           0.70      9144\n",
            "   macro avg       0.64      0.61      0.60      9144\n",
            "weighted avg       0.70      0.70      0.64      9144\n",
            "\n"
          ]
        }
      ]
    }
  ],
  "metadata": {
    "kernelspec": {
      "display_name": "Python 3",
      "language": "python",
      "name": "python3"
    },
    "language_info": {
      "codemirror_mode": {
        "name": "ipython",
        "version": 3
      },
      "file_extension": ".py",
      "mimetype": "text/x-python",
      "name": "python",
      "nbconvert_exporter": "python",
      "pygments_lexer": "ipython3",
      "version": "3.10.6"
    },
    "colab": {
      "provenance": [],
      "toc_visible": true
    }
  },
  "nbformat": 4,
  "nbformat_minor": 0
}